{
 "cells": [
  {
   "attachments": {},
   "cell_type": "markdown",
   "metadata": {},
   "source": [
    "<h2 align=\"center\"><b>ALINHAMENTO E GERAÇÃO DE ÁRVORE FILOGENÉTICA</b></h2>\n",
    "<h3 align=\"center\"><b>IMPORTS E CONFIGURAÇÃO DO DIRETÓRIO BASE</b></h3>\n",
    "<p align=\"center\">IMPORTANTE LEMBRAR QUE É NECESSÁRIO TER O CLUSTALW INSTALADO PARA RODAR O CÓDIGO</p>"
   ]
  },
  {
   "cell_type": "code",
   "execution_count": 2,
   "metadata": {},
   "outputs": [],
   "source": [
    "from Bio.Align.Applications import ClustalwCommandline\n",
    "from Bio import AlignIO, Phylo\n",
    "from Bio import SeqIO\n",
    "from Bio.Phylo.TreeConstruction import DistanceCalculator, DistanceTreeConstructor\n",
    "import os\n",
    "\n",
    "# Substitua pelo caminho do diretório que você deseja listar\n",
    "input_path = 'testset'\n",
    "diretorio = '../data/{input_path}/'.format(input_path = input_path)\n",
    "arquivos = os.listdir(diretorio)"
   ]
  },
  {
   "attachments": {},
   "cell_type": "markdown",
   "metadata": {},
   "source": [
    "<h3 align=\"center\"> <b>LIMPEZA</b> </h3>"
   ]
  },
  {
   "cell_type": "code",
   "execution_count": 4,
   "metadata": {},
   "outputs": [],
   "source": [
    "\n",
    "def clean_Trees():\n",
    "    dir_Trees = '../data/out/Trees/' \n",
    "    arquivos_trees = os.listdir(dir_Trees)\n",
    "\n",
    "    for name_file_trees in arquivos_trees:\n",
    "        path_trees = dir_Trees + \"{name}\".format(name = name_file_trees)\n",
    "        if name_file_trees != \"file.gitkeep\":\n",
    "            os.remove(path_trees)\n",
    "\n",
    "def clean_tmp():\n",
    "    dir_tmp = '../data/out/tmp/' \n",
    "    arquivos_tmp = os.listdir(dir_tmp)\n",
    "\n",
    "    for name_file_tmp in arquivos_tmp:\n",
    "        path_tmp = dir_tmp + \"{name}\".format(name = name_file_tmp)\n",
    "        if name_file_tmp != \"file.gitkeep\":\n",
    "            os.remove(path_tmp)\n",
    "\n",
    "\n",
    "def clean_NoPipe():\n",
    "    dir_path = '../data/{input_path}/'.format(input_path = input_path)\n",
    "\n",
    "    for file_name in os.listdir(dir_path):\n",
    "        if 'NoPipe' in file_name:\n",
    "            file_path = os.path.join(dir_path, file_name)\n",
    "            os.remove(file_path)\n",
    "\n",
    "clean_NoPipe()\n",
    "clean_tmp()\n",
    "clean_Trees()"
   ]
  },
  {
   "attachments": {},
   "cell_type": "markdown",
   "metadata": {},
   "source": [
    "<h3 align=\"center\"> <b>VALIDADORES</b> </h3>\n"
   ]
  },
  {
   "cell_type": "code",
   "execution_count": 3,
   "metadata": {},
   "outputs": [],
   "source": [
    "\n",
    "#Função que verifica se todas as sequências são proteínas válidas no formato FASTA\"\"\"\n",
    "def validar_sequencias(arquivo):\n",
    "    with open(arquivo, 'r') as f:\n",
    "        for linha in f:\n",
    "            if linha.startswith('>'):\n",
    "                continue  # Pula a linha de cabeçalho\n",
    "            sequencia = linha.strip()\n",
    "            if not set(sequencia).issubset(set('ACDEFGHIKLMNPQRSTVWY')):\n",
    "                return False\n",
    "    return True\n",
    "\n",
    "\n",
    "def tem_nomes_duplicados(nome):\n",
    "    registros = SeqIO.parse(nome, 'fasta')\n",
    "    nomes = set()\n",
    "    for registro in registros:\n",
    "        nome = registro.id\n",
    "        if nome in nomes:\n",
    "            return True\n",
    "        nomes.add(nome)\n",
    "    return False"
   ]
  },
  {
   "attachments": {},
   "cell_type": "markdown",
   "metadata": {},
   "source": [
    "<h3 align=\"center\"> <b>TRATAMENTO DE SEQUENCIA</b> </h3>\n"
   ]
  },
  {
   "cell_type": "code",
   "execution_count": 4,
   "metadata": {},
   "outputs": [],
   "source": [
    "def remove_pipe(name, path_in_fasta):\n",
    "\n",
    "    sequences = list(SeqIO.parse(path_in_fasta, \"fasta\"))\n",
    "\n",
    "    # Criar um dicionário para armazenar as sequências únicas\n",
    "    unique_sequences = {}\n",
    "\n",
    "    # Iterar pelas sequências do arquivo de entrada\n",
    "    for sequence in sequences:\n",
    "        # Verificar se a sequência já existe no dicionário de sequências únicas\n",
    "        if str(sequence.seq) not in unique_sequences:\n",
    "            # Se a sequência é única, armazená-la no dicionário\n",
    "            unique_sequences[str(sequence.seq)] = sequence\n",
    "\n",
    "    # Criar uma lista de sequências únicas\n",
    "    unique_sequences_list = list(unique_sequences.values())\n",
    "\n",
    "    # Salvar as sequências únicas em um arquivo de saída\n",
    "    output_file_tmp = \"sequencias_sem_duplicatas.fasta\"\n",
    "    SeqIO.write(unique_sequences_list, output_file_tmp, \"fasta\")\n",
    "\n",
    "    # Mover o arquivo de saída .dnd para o diretório \"resultados\"\n",
    "    result = \"../data/{input_path}/{name}_NoPipe\".format(input_path = input_path, name=name)\n",
    "\n",
    "    os.rename(output_file_tmp, result)\n",
    "    return result\n",
    "    "
   ]
  },
  {
   "attachments": {},
   "cell_type": "markdown",
   "metadata": {},
   "source": [
    "<h3 align=\"center\"> <b>CONSTRUTUOR</b> </h3>\n"
   ]
  },
  {
   "cell_type": "code",
   "execution_count": 5,
   "metadata": {},
   "outputs": [],
   "source": [
    "# Mais informações sobre aplicações biopython e clustalwcommandline - https://biopython.org/docs/1.76/api/Bio.Align.Applications.html\n",
    "def constructor_tree(path_in_fasta, path_out_aln, path_out_dnd, path_old_dnd, path_out_tree):\n",
    "    # Executa o Clustalw para alinhar as sequências\n",
    "    clustalw_cline = ClustalwCommandline(\"clustalw\", infile=path_in_fasta, outfile=path_out_aln)# Executa o programa clustalw sem precisar da linha de comando.\n",
    "    clustalw_cline()#  Executa o comando ClustalW com base nos parâmetros definidos no objeto ClustalwCommandline e retorna os resultados da execução na forma de uma tupla de strings.\n",
    "\n",
    "    # Mover o arquivo de saída .dnd para o diretório \"resultados\"\n",
    "    os.rename(path_old_dnd, path_out_dnd)\n",
    "\n",
    "    '''\n",
    "    Clustalw_cline() - gera 2 arquivos de saida por padrão\n",
    "\n",
    "    Nesse caso:\n",
    "    - ORTHOMCL256.aln: Contendo a sequência de ORTHOMCL256 alinhada em formato clustal\n",
    "    - ORTHOMCL256.dnd: Contendo informações sobre o agrupamento hierárquico das sequências alinhadas.\n",
    "    '''\n",
    "\n",
    "    # Abre o arquivo de alinhamento\n",
    "    with open(path_out_aln, \"r\") as handle:\n",
    "        alignment = AlignIO.read(handle, \"clustal\")# O objeto MultipleSeqAlignment retornado é armazenado na variável.\n",
    "\n",
    "    # Calcula a matriz de distância\n",
    "    # argumento 'identity', que indica que a distância entre as sequências será medida pelo número de identidades, ou seja, a fração de posições nas sequências que possuem o mesmo nucleotídeo ou aminoácido.\n",
    "    calculator = DistanceCalculator('identity') \n",
    "    # Calcula a matriz de distâncias entre as sequências\n",
    "    distance_matrix = calculator.get_distance(alignment) \n",
    "\n",
    "    # Constrói a árvore filogenética\n",
    "    # constr árvores filogenéticas a partir de matrizes de distâncias entre sequências.\n",
    "    constructor = DistanceTreeConstructor() \n",
    "    tree = constructor.nj(distance_matrix)\n",
    "\n",
    "    # Salva a árvore em formato nexus\n",
    "    Phylo.write(tree, path_out_tree, \"nexus\")\n",
    "\n",
    "    # Salva a árvore em formato newick\n",
    "    # IMPORTANTE MUDAR A EXTENSÃO DO path_out_tree\n",
    "    # Phylo.write(tree, path_out_tree, \"newick\")"
   ]
  },
  {
   "attachments": {},
   "cell_type": "markdown",
   "metadata": {},
   "source": [
    "<h3 align=\"center\"> <b>PERCORRER E MANIPULA DIRETORIO</b> </h3>\n"
   ]
  },
  {
   "cell_type": "code",
   "execution_count": 6,
   "metadata": {},
   "outputs": [],
   "source": [
    "for name_file in arquivos:\n",
    "    #configurando caminhos relativos padrao do diretorio\n",
    "    path_in_fasta = \"../data/{input_path}/{name}\".format(input_path = input_path, name=name_file)\n",
    "    path_out_aln = \"../data/out/tmp/{name}.aln\".format(name=name_file)\n",
    "    path_out_dnd = \"../data/out/tmp/{name}.dnd\".format(name=name_file)\n",
    "    path_old_dnd = \"../data/{input_path}/{name}.dnd\".format(input_path = input_path, name=name_file)\n",
    "    #Salva em newick, para salvar em nexus mude o parâmetro da funçao constructor_tree para path_out_tree_nexus\n",
    "    path_out_tree_nwk = \"../data/out/Trees/tree_{name}.nwk\".format(name=name_file)\n",
    "    #Salva em nexus, para salvar em nexus mude o parâmetro da funçao constructor_tree para path_out_tree_nwk\n",
    "    path_out_tree_nexus = \"../data/out/Trees/tree_{name}.nexus\".format(name=name_file)\n",
    "    path_out_maf = \"../data/out/Maf/{name}.maf\".format(name=name_file)\n",
    "\n",
    "    if not(tem_nomes_duplicados(path_in_fasta)) and validar_sequencias(path_in_fasta):\n",
    "        constructor_tree(path_in_fasta, path_out_aln, path_out_dnd, path_old_dnd, path_out_tree_nexus)\n",
    "    else:\n",
    "        path_in_fasta = remove_pipe(name_file, path_in_fasta)\n",
    "        path_old_dnd = \"{path}.dnd\".format(path=path_in_fasta)\n",
    "\n",
    "        constructor_tree(path_in_fasta, path_out_aln, path_out_dnd, path_old_dnd, path_out_tree_nexus)"
   ]
  },
  {
   "attachments": {},
   "cell_type": "markdown",
   "metadata": {},
   "source": [
    "<h3 align=\"center\"> <b>Limpeza arquivos temporários</b> </h3>\n"
   ]
  },
  {
   "cell_type": "code",
   "execution_count": 5,
   "metadata": {},
   "outputs": [],
   "source": [
    "clean_NoPipe()\n",
    "clean_tmp()"
   ]
  }
 ],
 "metadata": {
  "kernelspec": {
   "display_name": ".env",
   "language": "python",
   "name": "python3"
  },
  "language_info": {
   "codemirror_mode": {
    "name": "ipython",
    "version": 3
   },
   "file_extension": ".py",
   "mimetype": "text/x-python",
   "name": "python",
   "nbconvert_exporter": "python",
   "pygments_lexer": "ipython3",
   "version": "3.8.10"
  },
  "orig_nbformat": 4,
  "vscode": {
   "interpreter": {
    "hash": "52f2c73065b8d13145d55db79ab48bb4f1dda31f26a89129591c7a79ffdd3639"
   }
  }
 },
 "nbformat": 4,
 "nbformat_minor": 2
}
