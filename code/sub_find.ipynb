{
 "cells": [
  {
   "cell_type": "markdown",
   "metadata": {},
   "source": [
    "- O formato das Sequências de proteínas deve ser especificado em `DATA_FORMATT`"
   ]
  },
  {
   "cell_type": "code",
   "execution_count": null,
   "metadata": {},
   "outputs": [],
   "source": [
    "from Bio import Phylo\n",
    "from Bio import *\n",
    "from dendropy import Tree\n",
    "import shutil, os\n",
    "\n",
    "INPUT_PATH = '../data/out/Trees'\n",
    "DATA_OUTPUT_PATH = '../data/out/Subtrees'\n",
    "\n",
    "DATA_FORMAT = 'nexus' # newick ou nexus\n",
    "match DATA_FORMAT:\n",
    "    case 'nexus':\n",
    "        EXTENTION_FORMAT = 'nexus' # Nexus: 'nexus'\n",
    "   \n",
    "    case 'nwk':\n",
    "        EXTENTION_FORMAT = 'nwk' # Newick: 'nwk'"
   ]
  },
  {
   "attachments": {},
   "cell_type": "markdown",
   "metadata": {},
   "source": [
    "<h3 align=\"center\"> <b>Limpeza</b> </h3>\n"
   ]
  },
  {
   "cell_type": "code",
   "execution_count": null,
   "metadata": {},
   "outputs": [],
   "source": [
    "def clean_dir(path_clean):\n",
    "    if(os.path.exists(path_clean)):\n",
    "        for name in os.listdir(path_clean):\n",
    "            if(name != \"file.gitkeep\"):\n",
    "                file_path = os.path.join(path_clean, name)\n",
    "                os.remove(file_path)\n",
    "        shutil.rmtree(path_clean)\n",
    "\n",
    "def clean_files():\n",
    "    dir_tmp = os.path.join(DATA_OUTPUT_PATH) \n",
    "    arquivos_tmp = os.listdir(dir_tmp)\n",
    "    for name_file in arquivos_tmp:\n",
    "        if name_file != \"file.gitkeep\":\n",
    "            os.remove(os.path.join(dir_tmp,name_file))\n",
    "\n",
    "clean_files()\n",
    "\n"
   ]
  },
  {
   "attachments": {},
   "cell_type": "markdown",
   "metadata": {},
   "source": [
    "<h3 align=\"center\"> <b>Exibe subárvore</b> </h3>\n"
   ]
  },
  {
   "cell_type": "code",
   "execution_count": null,
   "metadata": {},
   "outputs": [],
   "source": [
    "def print_trees_in_directory(directory):\n",
    "    for filename in os.listdir(directory):\n",
    "        if filename.endswith(\".nexus\"):\n",
    "            filepath = os.path.join(directory, filename)\n",
    "            \n",
    "            print(filename.upper() + \"\\n\")\n",
    "            tree = Tree.get_from_path(filepath, DATA_FORMAT)\n",
    "            tree.print_plot()\n",
    "\n"
   ]
  },
  {
   "attachments": {},
   "cell_type": "markdown",
   "metadata": {},
   "source": [
    "\n",
    "<h3 align=\"center\"> <b>Construtor de subárvores</b> </h3>\n"
   ]
  },
  {
   "cell_type": "code",
   "execution_count": null,
   "metadata": {},
   "outputs": [],
   "source": [
    "def sub_tree(path, name_subtree):\n",
    "    # Salva a árvore\n",
    "    tree = Phylo.read(path, DATA_FORMAT)\n",
    "    name_subtree = name_subtree.rsplit(\".\", 1)[0]\n",
    "\n",
    "    #Lista caminhos das subárvores (que posteriormente serão utilizadas para compor a matriz de subárvores)\n",
    "    row_subtree = []\n",
    "\n",
    "    for clade in tree.find_clades():\n",
    "        subtree = Phylo.BaseTree.Tree(clade)\n",
    "        if subtree.count_terminals() > 1:\n",
    "            filepath_out = os.path.join(DATA_OUTPUT_PATH,f'{name_subtree}_{clade.name}.{EXTENTION_FORMAT}')\n",
    "            Phylo.write(subtree, filepath_out, DATA_FORMAT)        \n",
    "            row_subtree.append(filepath_out)\n",
    "            \n",
    "    return row_subtree "
   ]
  },
  {
   "cell_type": "code",
   "execution_count": null,
   "metadata": {},
   "outputs": [],
   "source": [
    "def directory_has_single_file(directory_path):\n",
    "    if not os.path.isdir(directory_path):\n",
    "        return False\n",
    "\n",
    "    files = os.listdir(directory_path)\n",
    "    if len(files) != 1:\n",
    "        return False\n",
    "\n",
    "    return True"
   ]
  },
  {
   "attachments": {},
   "cell_type": "markdown",
   "metadata": {},
   "source": [
    "<h3 align=\"center\"> <b>Chamada de funções</b> </h3>\n"
   ]
  },
  {
   "attachments": {},
   "cell_type": "markdown",
   "metadata": {},
   "source": [
    "<p align=\"center\"> <b> ATENÇÃO: SE A ÁRVORE DE ENTRADA NÃO TIVER FORMATO NEXUS, MUDAR O SCHEMA EM Phylo.write( )\n",
    "</b> </p>\n"
   ]
  },
  {
   "cell_type": "code",
   "execution_count": null,
   "metadata": {},
   "outputs": [],
   "source": [
    "# Diretório de entrada de árvores \n",
    "arquivos = os.listdir(INPUT_PATH)\n",
    "\n",
    "# matriz com todas as subárvores\n",
    "matriz_subtree = []\n",
    "\n",
    "for name_file in arquivos:\n",
    "    if(name_file != \"file.gitkeep\"):\n",
    "        dir_path_out_epsecif = os.path.join(DATA_OUTPUT_PATH,name_file.split(\".\")[0])\n",
    "        file_path = os.path.join(INPUT_PATH,name_file)\n",
    "        matriz_subtree.append(sub_tree(file_path, name_file))"
   ]
  },
  {
   "cell_type": "code",
   "execution_count": null,
   "metadata": {},
   "outputs": [],
   "source": [
    "# máximo de colunas\n",
    "max_columns = max(len(row) for row in matriz_subtree)\n",
    "# máximo de linhas\n",
    "max_rows = len(matriz_subtree)\n",
    "\n",
    "def preencher_matriz(matriz, valor_preenchimento):\n",
    "    # Preencher as células vazias com o valor de preenchimento\n",
    "    for row in matriz:\n",
    "        while len(row) < max_columns:\n",
    "            row.append(valor_preenchimento)\n",
    "\n",
    "    return matriz\n",
    "\n",
    "print(max_rows, max_columns)"
   ]
  },
  {
   "cell_type": "code",
   "execution_count": null,
   "metadata": {},
   "outputs": [],
   "source": [
    "matriz_subtree = preencher_matriz(matriz_subtree, None)\n",
    "\n",
    "for linha in matriz_subtree:\n",
    "    print(linha)\n"
   ]
  },
  {
   "attachments": {},
   "cell_type": "markdown",
   "metadata": {},
   "source": [
    "<h3 align=\"center\"> <b> Comparação das subárvores\n",
    "</b> </h3>\n"
   ]
  },
  {
   "cell_type": "code",
   "execution_count": null,
   "metadata": {},
   "outputs": [],
   "source": [
    "def grade_maf(path_1, path_2):\n",
    "    if(path_1 is None or path_2 is None):\n",
    "        return -1      \n",
    "    grau = 0\n",
    "\n",
    "    subtree_1 = Phylo.read(path_1,DATA_FORMAT)\n",
    "    subtree_2 = Phylo.read(path_2,DATA_FORMAT)\n",
    "\n",
    "    # Lista todas as clades ( folhas )\n",
    "    list_1 = [i.name for i in subtree_1.get_terminals()]\n",
    "    list_2 = [i.name for i in subtree_2.get_terminals()]\n",
    "\n",
    "    sorted_list1 = sorted(list_1)\n",
    "    sorted_list2 = sorted(list_2)\n",
    "    \n",
    "    for i in range(len(list_1)):\n",
    "        for j in range(len(list_2)):\n",
    "            if sorted_list1[i] == sorted_list2[j]:\n",
    "                grau += 1\n",
    "    return grau\n"
   ]
  },
  {
   "cell_type": "code",
   "execution_count": null,
   "metadata": {},
   "outputs": [],
   "source": [
    "dict_maf_database = {}\n",
    "\n",
    "def fill_dict(dict, max_columns):\n",
    "    for i in range(max_columns):\n",
    "        dict[i+1] = {}\n",
    "\n",
    "    return dict_maf_database\n",
    "\n",
    "dict_maf_database = fill_dict(dict_maf_database,max_columns)\n",
    "print(dict_maf_database)"
   ]
  },
  {
   "cell_type": "code",
   "execution_count": null,
   "metadata": {},
   "outputs": [],
   "source": [
    "max_maf = 0\n",
    "for i in range(max_rows):\n",
    "    for j in range(max_columns):\n",
    "        dict_aux = {}\n",
    "        for k in range(max_rows):\n",
    "            for l in range(max_columns): \n",
    "                if i != k:\n",
    "                    if max_maf <= grade_maf(matriz_subtree[i][j],matriz_subtree[k][l]):\n",
    "                        max_maf = grade_maf(matriz_subtree[i][j],matriz_subtree[k][l])\n",
    "\n",
    "                    g_maf = grade_maf(matriz_subtree[i][j], matriz_subtree[k][l])\n",
    "                    if g_maf is not False and g_maf >= 1:\n",
    "                        if g_maf not in dict_maf_database:\n",
    "                            dict_maf_database[g_maf] = {}\n",
    "                        if matriz_subtree[i][j] not in dict_maf_database[g_maf]:\n",
    "                            dict_maf_database[g_maf][matriz_subtree[i][j]] = []\n",
    "                        dict_maf_database[g_maf][matriz_subtree[i][j]].append(matriz_subtree[k][l])\n"
   ]
  },
  {
   "cell_type": "code",
   "execution_count": null,
   "metadata": {},
   "outputs": [],
   "source": [
    "print(max_maf)\n"
   ]
  },
  {
   "cell_type": "code",
   "execution_count": null,
   "metadata": {},
   "outputs": [],
   "source": [
    "for i, j in dict_maf_database.items():\n",
    "    print(i,j)\n",
    "    for key, val in j.items():\n",
    "        # print(i, key, val)\n",
    "        continue\n",
    "    "
   ]
  }
 ],
 "metadata": {
  "kernelspec": {
   "display_name": ".env",
   "language": "python",
   "name": "python3"
  },
  "language_info": {
   "codemirror_mode": {
    "name": "ipython",
    "version": 3
   },
   "file_extension": ".py",
   "mimetype": "text/x-python",
   "name": "python",
   "nbconvert_exporter": "python",
   "pygments_lexer": "ipython3",
   "version": "3.10.13"
  },
  "orig_nbformat": 4
 },
 "nbformat": 4,
 "nbformat_minor": 2
}
