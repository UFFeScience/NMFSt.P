{
 "cells": [
  {
   "cell_type": "code",
   "execution_count": 1,
   "metadata": {},
   "outputs": [],
   "source": [
    "from Bio import Phylo\n",
    "from Bio import *\n",
    "from dendropy import Tree\n",
    "import shutil\n",
    "import os\n",
    "\n"
   ]
  },
  {
   "attachments": {},
   "cell_type": "markdown",
   "metadata": {},
   "source": [
    "<h3 align=\"center\"> <b>Limpeza</b> </h3>\n"
   ]
  },
  {
   "cell_type": "code",
   "execution_count": 2,
   "metadata": {},
   "outputs": [],
   "source": [
    "def clean_dir(path_clean):\n",
    "    if(os.path.exists(path_clean)):\n",
    "        for name in os.listdir(path_clean):\n",
    "            if(name != \"file.gitkeep\"):\n",
    "                file_path = os.path.join(path_clean, name)\n",
    "                os.remove(file_path)\n",
    "        shutil.rmtree(path_clean)\n",
    "\n",
    "\n",
    "def clean_files():\n",
    "    dir_tmp = '../data/out/Subtrees/' \n",
    "    arquivos_tmp = os.listdir(dir_tmp)\n",
    "\n",
    "    for name_file in arquivos_tmp:\n",
    "        path_tmp = dir_tmp + \"{name}\".format(name = name_file)\n",
    "        if name_file != \"file.gitkeep\":\n",
    "            os.remove(path_tmp)\n",
    "clean_files()\n",
    "\n"
   ]
  },
  {
   "attachments": {},
   "cell_type": "markdown",
   "metadata": {},
   "source": [
    "<h3 align=\"center\"> <b>Print subtree</b> </h3>\n"
   ]
  },
  {
   "cell_type": "code",
   "execution_count": 3,
   "metadata": {},
   "outputs": [],
   "source": [
    "def print_trees_in_directory(directory):\n",
    "    for filename in os.listdir(directory):\n",
    "        if filename.endswith(\".nexus\"):\n",
    "            filepath = os.path.join(directory, filename)\n",
    "            \n",
    "            print(filename.upper() + \"\\n\")\n",
    "            tree = Tree.get_from_path(filepath, \"nexus\")\n",
    "            tree.print_plot()\n",
    "\n"
   ]
  },
  {
   "attachments": {},
   "cell_type": "markdown",
   "metadata": {},
   "source": [
    "\n",
    "<h3 align=\"center\"> <b>Construtor subtree</b> </h3>\n"
   ]
  },
  {
   "cell_type": "code",
   "execution_count": 4,
   "metadata": {},
   "outputs": [],
   "source": [
    "def sub_tree(path, name_subtree):\n",
    "    tree = Phylo.read(path, \"nexus\")\n",
    "    name_subtree = name_subtree.rsplit(\".\", 1)[0]#spit reverso\n",
    "\n",
    "    #Lista com caminhos das subarvores, sera usada para compo a matriz de subarvores\n",
    "    row_subtree = []\n",
    "\n",
    "    # Iterar sobre todas as subárvores e salvar em arquivos separados\n",
    "    for clade in tree.find_clades():\n",
    "        subtree = Phylo.BaseTree.Tree(clade)\n",
    "        if subtree.count_terminals() > 1:\n",
    "            # Salva subarvore com nome\n",
    "            \n",
    "            filepath_out = \"../data/out/Subtrees/{}_{}.nexus\".format(name_subtree,clade.name)\n",
    "            Phylo.write(subtree, filepath_out, \"nexus\")        \n",
    "            row_subtree.append(filepath_out)\n",
    "            \n",
    "    return row_subtree\n",
    "            \n",
    "    \n",
    "def sub_tree_separate_in_folder(path, name_subtree):\n",
    "    name_subtree = name_subtree.rsplit(\".\", 1)[0]#spit reverso\n",
    "    if(not(os.path.exists(\"../data/out/Subtrees/{}\".format(name_subtree)))): \n",
    "        os.mkdir(\"../data/out/Subtrees/{}\".format(name_subtree))#cria a pasta para salvar as sub da arv especifica\n",
    "        \n",
    "    tree = Phylo.read(path, \"nexus\")\n",
    "    \n",
    "    #Lista com caminhos das subarvores, sera usada para compo a matriz de subarvores\n",
    "    row_subtree = []\n",
    "\n",
    "    # Iterar sobre todas as subárvores e salvar em arquivos separados\n",
    "    for clade in tree.find_clades():\n",
    "        subtree = Phylo.BaseTree.Tree(clade)\n",
    "        if subtree.count_terminals() > 1:\n",
    "            # Salva subarvore com nome\n",
    "            filepath_out = \"../data/out/Subtrees/{}/sub{}_{}.nexus\".format(name_subtree,name_subtree,clade.name)\n",
    "            Phylo.write(subtree, filepath_out, \"nexus\") \n",
    "            row_subtree.append(filepath_out)\n",
    "    return row_subtree\n",
    "        "
   ]
  },
  {
   "cell_type": "code",
   "execution_count": 5,
   "metadata": {},
   "outputs": [],
   "source": [
    "def directory_has_single_file(directory_path):\n",
    "    if not os.path.isdir(directory_path):\n",
    "        return False\n",
    "\n",
    "    files = os.listdir(directory_path)\n",
    "    if len(files) != 1:\n",
    "        return False\n",
    "\n",
    "    return True"
   ]
  },
  {
   "attachments": {},
   "cell_type": "markdown",
   "metadata": {},
   "source": [
    "<h3 align=\"center\"> <b>Chamada funçoes</b> </h3>\n"
   ]
  },
  {
   "attachments": {},
   "cell_type": "markdown",
   "metadata": {},
   "source": [
    "<p align=\"center\"> <b> ATENÇAO SE A ARVORE DE ENTRADA NAO FOR NEXUS MUDAR O SCHEMA EM Phylo.write( )\n",
    "</b> </p>\n"
   ]
  },
  {
   "cell_type": "code",
   "execution_count": 6,
   "metadata": {},
   "outputs": [],
   "source": [
    "# Diretório de input de arvores \n",
    "dir = '../data/out/Trees/' \n",
    "arquivos = os.listdir(dir)\n",
    "\n",
    "# dir de saída\n",
    "dir_path_out = \"../data/out/Subtrees/\"\n",
    "\n",
    "#matriz com todas as sub arvores\n",
    "matriz_subtree = []\n",
    "\n",
    "for name_file in arquivos:\n",
    "    if(name_file != \"file.gitkeep\"):\n",
    "\n",
    "        dir_path_out_epsecif = \"../data/out/Subtrees/{}\".format(name_file.split(\".\")[0])\n",
    "        \n",
    "        # Gera as subarvores para todas as arvores na pasta /Trees salvando em arquivos\n",
    "        matriz_subtree.append(sub_tree(\"{}{}\".format(dir, name_file), name_file))\n",
    "        \n",
    "        # Gera as subarvores para todas as arvores na pasta /Trees salvando em pastas\n",
    "        # matriz_subtree.append(sub_tree_separate_in_folder(\"{}{}\".format(dir, name_file), name_file))\n",
    "        \n",
    "        # Limpa diritorio atual ( exclui pastas e arquivos)\n",
    "        # clean_dir(dir_path_out_epsecif)\n",
    "\n",
    "# Limpa diretorio atual ( exclui somente arquivos )\n",
    "# clean_files()\n"
   ]
  },
  {
   "cell_type": "code",
   "execution_count": 7,
   "metadata": {},
   "outputs": [
    {
     "name": "stdout",
     "output_type": "stream",
     "text": [
      "8 8\n"
     ]
    }
   ],
   "source": [
    "# Encontrar o número máximo de colunas\n",
    "max_colunas = max(len(row) for row in matriz_subtree)\n",
    "# Encontrar o número máximo de linhas\n",
    "max_linhas = len(matriz_subtree)\n",
    "\n",
    "def preencher_matriz(matriz, valor_preenchimento):\n",
    "    # Preencher as células vazias com o valor de preenchimento\n",
    "    for row in matriz:\n",
    "        while len(row) < max_colunas:\n",
    "            row.append(valor_preenchimento)\n",
    "\n",
    "    return matriz\n",
    "\n",
    "\n",
    "print(max_linhas, max_colunas)"
   ]
  },
  {
   "cell_type": "code",
   "execution_count": 8,
   "metadata": {},
   "outputs": [
    {
     "name": "stdout",
     "output_type": "stream",
     "text": [
      "['../data/out/Subtrees/tree_ORTHOMCL1_Inner3.nexus', '../data/out/Subtrees/tree_ORTHOMCL1_Inner2.nexus', '../data/out/Subtrees/tree_ORTHOMCL1_Inner1.nexus', None, None, None, None, None]\n",
      "['../data/out/Subtrees/tree_ORTHOMCL256_Inner8.nexus', '../data/out/Subtrees/tree_ORTHOMCL256_Inner7.nexus', '../data/out/Subtrees/tree_ORTHOMCL256_Inner6.nexus', '../data/out/Subtrees/tree_ORTHOMCL256_Inner5.nexus', '../data/out/Subtrees/tree_ORTHOMCL256_Inner3.nexus', '../data/out/Subtrees/tree_ORTHOMCL256_Inner2.nexus', '../data/out/Subtrees/tree_ORTHOMCL256_Inner1.nexus', '../data/out/Subtrees/tree_ORTHOMCL256_Inner4.nexus']\n",
      "['../data/out/Subtrees/tree_ORTHOMCL256_2_Inner8.nexus', '../data/out/Subtrees/tree_ORTHOMCL256_2_Inner7.nexus', '../data/out/Subtrees/tree_ORTHOMCL256_2_Inner6.nexus', '../data/out/Subtrees/tree_ORTHOMCL256_2_Inner5.nexus', '../data/out/Subtrees/tree_ORTHOMCL256_2_Inner3.nexus', '../data/out/Subtrees/tree_ORTHOMCL256_2_Inner2.nexus', '../data/out/Subtrees/tree_ORTHOMCL256_2_Inner1.nexus', '../data/out/Subtrees/tree_ORTHOMCL256_2_Inner4.nexus']\n",
      "['../data/out/Subtrees/tree_ORTHOMCL320_Inner7.nexus', '../data/out/Subtrees/tree_ORTHOMCL320_Inner6.nexus', '../data/out/Subtrees/tree_ORTHOMCL320_Inner4.nexus', '../data/out/Subtrees/tree_ORTHOMCL320_Inner5.nexus', '../data/out/Subtrees/tree_ORTHOMCL320_Inner3.nexus', '../data/out/Subtrees/tree_ORTHOMCL320_Inner2.nexus', '../data/out/Subtrees/tree_ORTHOMCL320_Inner1.nexus', None]\n",
      "['../data/out/Subtrees/tree_ORTHOMCL337_Inner7.nexus', '../data/out/Subtrees/tree_ORTHOMCL337_Inner5.nexus', '../data/out/Subtrees/tree_ORTHOMCL337_Inner4.nexus', '../data/out/Subtrees/tree_ORTHOMCL337_Inner3.nexus', '../data/out/Subtrees/tree_ORTHOMCL337_Inner1.nexus', '../data/out/Subtrees/tree_ORTHOMCL337_Inner2.nexus', '../data/out/Subtrees/tree_ORTHOMCL337_Inner6.nexus', None]\n",
      "['../data/out/Subtrees/tree_ORTHOMCL358_Inner7.nexus', '../data/out/Subtrees/tree_ORTHOMCL358_Inner5.nexus', '../data/out/Subtrees/tree_ORTHOMCL358_Inner1.nexus', '../data/out/Subtrees/tree_ORTHOMCL358_Inner4.nexus', '../data/out/Subtrees/tree_ORTHOMCL358_Inner3.nexus', '../data/out/Subtrees/tree_ORTHOMCL358_Inner6.nexus', '../data/out/Subtrees/tree_ORTHOMCL358_Inner2.nexus', None]\n",
      "['../data/out/Subtrees/tree_ORTHOMCL364_Inner7.nexus', '../data/out/Subtrees/tree_ORTHOMCL364_Inner6.nexus', '../data/out/Subtrees/tree_ORTHOMCL364_Inner3.nexus', '../data/out/Subtrees/tree_ORTHOMCL364_Inner2.nexus', '../data/out/Subtrees/tree_ORTHOMCL364_Inner1.nexus', '../data/out/Subtrees/tree_ORTHOMCL364_Inner4.nexus', '../data/out/Subtrees/tree_ORTHOMCL364_Inner5.nexus', None]\n",
      "['../data/out/Subtrees/tree_ORTHOMCL371_Inner6.nexus', '../data/out/Subtrees/tree_ORTHOMCL371_Inner4.nexus', '../data/out/Subtrees/tree_ORTHOMCL371_Inner3.nexus', '../data/out/Subtrees/tree_ORTHOMCL371_Inner1.nexus', '../data/out/Subtrees/tree_ORTHOMCL371_Inner2.nexus', '../data/out/Subtrees/tree_ORTHOMCL371_Inner5.nexus', None, None]\n"
     ]
    }
   ],
   "source": [
    "#sobreescreve matriz igualando numero de colunas ( preenche com None celulás vazias )\n",
    "matriz_subtree = preencher_matriz(matriz_subtree, None)\n",
    "\n",
    "for linha in matriz_subtree:\n",
    "    print(linha)\n"
   ]
  },
  {
   "attachments": {},
   "cell_type": "markdown",
   "metadata": {},
   "source": [
    "<h3 align=\"center\"> <b> Comparação das subarvores\n",
    "</b> </h3>\n"
   ]
  },
  {
   "cell_type": "code",
   "execution_count": 9,
   "metadata": {},
   "outputs": [],
   "source": [
    "\n",
    "\n",
    "def grau_MAF(path_1, path_2):\n",
    "    if(path_1 is None or path_2 is None):\n",
    "        return -1\n",
    "        \n",
    "    grau = 0\n",
    "\n",
    "    subtree_1 = Phylo.read(path_1,'nexus')\n",
    "    subtree_2 = Phylo.read(path_2,'nexus')\n",
    "\n",
    "    # Lista todas as clades ( folhas )\n",
    "    list_1 = [i.name for i in subtree_1.get_terminals()]\n",
    "    list_2 = [i.name for i in subtree_2.get_terminals()]\n",
    "\n",
    "    sorted_list1 = sorted(list_1)\n",
    "    sorted_list2 = sorted(list_2)\n",
    "    \n",
    "    for i in range(len(list_1)):\n",
    "        for j in range(len(list_2)):\n",
    "            if sorted_list1[i] == sorted_list2[j]:\n",
    "                grau += 1\n",
    "    return grau\n"
   ]
  },
  {
   "cell_type": "code",
   "execution_count": 10,
   "metadata": {},
   "outputs": [
    {
     "name": "stdout",
     "output_type": "stream",
     "text": [
      "{1: {}, 2: {}, 3: {}, 4: {}, 5: {}, 6: {}, 7: {}, 8: {}}\n"
     ]
    }
   ],
   "source": [
    "dict_maf_database = {}\n",
    "\n",
    "def preencher_dict(dict, max_colunas):\n",
    "    for i in range(max_colunas):\n",
    "        dict[i+1] = {}\n",
    "\n",
    "    return dict_maf_database\n",
    "\n",
    "dict_maf_database = preencher_dict(dict_maf_database,max_colunas)\n",
    "print(dict_maf_database)"
   ]
  },
  {
   "cell_type": "code",
   "execution_count": 11,
   "metadata": {},
   "outputs": [],
   "source": [
    "# dict_maf_database = {}\n",
    "max_maf = 0\n",
    "for i in range(max_linhas):\n",
    "    for j in range(max_colunas):\n",
    "        dict_aux = {}\n",
    "        for k in range(max_linhas):\n",
    "            for l in range(max_colunas): \n",
    "                if i != k:\n",
    "                    if max_maf <= grau_MAF(matriz_subtree[i][j],matriz_subtree[k][l]):\n",
    "                        max_maf = grau_MAF(matriz_subtree[i][j],matriz_subtree[k][l])\n",
    "\n",
    "                    g_maf = grau_MAF(matriz_subtree[i][j], matriz_subtree[k][l])\n",
    "                    if g_maf is not False and g_maf >= 1:# Comparaçao pode ser feita\n",
    "                        if g_maf not in dict_maf_database:# Nao sobrescreve caso já exista\n",
    "                            dict_maf_database[g_maf] = {}\n",
    "                        if matriz_subtree[i][j] not in dict_maf_database[g_maf]:# Nao sobrescreve caso já exista\n",
    "                            dict_maf_database[g_maf][matriz_subtree[i][j]] = []\n",
    "                        dict_maf_database[g_maf][matriz_subtree[i][j]].append(matriz_subtree[k][l])\n"
   ]
  },
  {
   "cell_type": "code",
   "execution_count": 12,
   "metadata": {},
   "outputs": [
    {
     "name": "stdout",
     "output_type": "stream",
     "text": [
      "8\n"
     ]
    }
   ],
   "source": [
    "print(max_maf)\n"
   ]
  },
  {
   "cell_type": "code",
   "execution_count": 13,
   "metadata": {},
   "outputs": [
    {
     "name": "stdout",
     "output_type": "stream",
     "text": [
      "1 ../data/out/Subtrees/tree_ORTHOMCL256_Inner8.nexus ['../data/out/Subtrees/tree_ORTHOMCL256_2_Inner4.nexus']\n",
      "1 ../data/out/Subtrees/tree_ORTHOMCL256_Inner7.nexus ['../data/out/Subtrees/tree_ORTHOMCL256_2_Inner4.nexus']\n",
      "1 ../data/out/Subtrees/tree_ORTHOMCL256_Inner6.nexus ['../data/out/Subtrees/tree_ORTHOMCL256_2_Inner4.nexus']\n",
      "1 ../data/out/Subtrees/tree_ORTHOMCL256_Inner5.nexus ['../data/out/Subtrees/tree_ORTHOMCL256_2_Inner4.nexus']\n",
      "1 ../data/out/Subtrees/tree_ORTHOMCL256_Inner4.nexus ['../data/out/Subtrees/tree_ORTHOMCL256_2_Inner8.nexus', '../data/out/Subtrees/tree_ORTHOMCL256_2_Inner7.nexus', '../data/out/Subtrees/tree_ORTHOMCL256_2_Inner6.nexus', '../data/out/Subtrees/tree_ORTHOMCL256_2_Inner5.nexus', '../data/out/Subtrees/tree_ORTHOMCL256_2_Inner4.nexus']\n",
      "1 ../data/out/Subtrees/tree_ORTHOMCL256_2_Inner8.nexus ['../data/out/Subtrees/tree_ORTHOMCL256_Inner4.nexus']\n",
      "1 ../data/out/Subtrees/tree_ORTHOMCL256_2_Inner7.nexus ['../data/out/Subtrees/tree_ORTHOMCL256_Inner4.nexus']\n",
      "1 ../data/out/Subtrees/tree_ORTHOMCL256_2_Inner6.nexus ['../data/out/Subtrees/tree_ORTHOMCL256_Inner4.nexus']\n",
      "1 ../data/out/Subtrees/tree_ORTHOMCL256_2_Inner5.nexus ['../data/out/Subtrees/tree_ORTHOMCL256_Inner4.nexus']\n",
      "1 ../data/out/Subtrees/tree_ORTHOMCL256_2_Inner4.nexus ['../data/out/Subtrees/tree_ORTHOMCL256_Inner8.nexus', '../data/out/Subtrees/tree_ORTHOMCL256_Inner7.nexus', '../data/out/Subtrees/tree_ORTHOMCL256_Inner6.nexus', '../data/out/Subtrees/tree_ORTHOMCL256_Inner5.nexus', '../data/out/Subtrees/tree_ORTHOMCL256_Inner4.nexus']\n",
      "2 ../data/out/Subtrees/tree_ORTHOMCL256_Inner8.nexus ['../data/out/Subtrees/tree_ORTHOMCL256_2_Inner2.nexus', '../data/out/Subtrees/tree_ORTHOMCL256_2_Inner1.nexus']\n",
      "2 ../data/out/Subtrees/tree_ORTHOMCL256_Inner7.nexus ['../data/out/Subtrees/tree_ORTHOMCL256_2_Inner2.nexus', '../data/out/Subtrees/tree_ORTHOMCL256_2_Inner1.nexus']\n",
      "2 ../data/out/Subtrees/tree_ORTHOMCL256_Inner6.nexus ['../data/out/Subtrees/tree_ORTHOMCL256_2_Inner2.nexus', '../data/out/Subtrees/tree_ORTHOMCL256_2_Inner1.nexus']\n",
      "2 ../data/out/Subtrees/tree_ORTHOMCL256_Inner5.nexus ['../data/out/Subtrees/tree_ORTHOMCL256_2_Inner2.nexus', '../data/out/Subtrees/tree_ORTHOMCL256_2_Inner1.nexus']\n",
      "2 ../data/out/Subtrees/tree_ORTHOMCL256_Inner3.nexus ['../data/out/Subtrees/tree_ORTHOMCL256_2_Inner2.nexus', '../data/out/Subtrees/tree_ORTHOMCL256_2_Inner1.nexus']\n",
      "2 ../data/out/Subtrees/tree_ORTHOMCL256_Inner2.nexus ['../data/out/Subtrees/tree_ORTHOMCL256_2_Inner8.nexus', '../data/out/Subtrees/tree_ORTHOMCL256_2_Inner7.nexus', '../data/out/Subtrees/tree_ORTHOMCL256_2_Inner6.nexus', '../data/out/Subtrees/tree_ORTHOMCL256_2_Inner5.nexus', '../data/out/Subtrees/tree_ORTHOMCL256_2_Inner3.nexus', '../data/out/Subtrees/tree_ORTHOMCL256_2_Inner2.nexus', '../data/out/Subtrees/tree_ORTHOMCL256_2_Inner1.nexus']\n",
      "2 ../data/out/Subtrees/tree_ORTHOMCL256_Inner1.nexus ['../data/out/Subtrees/tree_ORTHOMCL256_2_Inner8.nexus', '../data/out/Subtrees/tree_ORTHOMCL256_2_Inner7.nexus', '../data/out/Subtrees/tree_ORTHOMCL256_2_Inner6.nexus', '../data/out/Subtrees/tree_ORTHOMCL256_2_Inner5.nexus', '../data/out/Subtrees/tree_ORTHOMCL256_2_Inner3.nexus', '../data/out/Subtrees/tree_ORTHOMCL256_2_Inner2.nexus', '../data/out/Subtrees/tree_ORTHOMCL256_2_Inner1.nexus']\n",
      "2 ../data/out/Subtrees/tree_ORTHOMCL256_2_Inner8.nexus ['../data/out/Subtrees/tree_ORTHOMCL256_Inner2.nexus', '../data/out/Subtrees/tree_ORTHOMCL256_Inner1.nexus']\n",
      "2 ../data/out/Subtrees/tree_ORTHOMCL256_2_Inner7.nexus ['../data/out/Subtrees/tree_ORTHOMCL256_Inner2.nexus', '../data/out/Subtrees/tree_ORTHOMCL256_Inner1.nexus']\n",
      "2 ../data/out/Subtrees/tree_ORTHOMCL256_2_Inner6.nexus ['../data/out/Subtrees/tree_ORTHOMCL256_Inner2.nexus', '../data/out/Subtrees/tree_ORTHOMCL256_Inner1.nexus']\n",
      "2 ../data/out/Subtrees/tree_ORTHOMCL256_2_Inner5.nexus ['../data/out/Subtrees/tree_ORTHOMCL256_Inner2.nexus', '../data/out/Subtrees/tree_ORTHOMCL256_Inner1.nexus']\n",
      "2 ../data/out/Subtrees/tree_ORTHOMCL256_2_Inner3.nexus ['../data/out/Subtrees/tree_ORTHOMCL256_Inner2.nexus', '../data/out/Subtrees/tree_ORTHOMCL256_Inner1.nexus']\n",
      "2 ../data/out/Subtrees/tree_ORTHOMCL256_2_Inner2.nexus ['../data/out/Subtrees/tree_ORTHOMCL256_Inner8.nexus', '../data/out/Subtrees/tree_ORTHOMCL256_Inner7.nexus', '../data/out/Subtrees/tree_ORTHOMCL256_Inner6.nexus', '../data/out/Subtrees/tree_ORTHOMCL256_Inner5.nexus', '../data/out/Subtrees/tree_ORTHOMCL256_Inner3.nexus', '../data/out/Subtrees/tree_ORTHOMCL256_Inner2.nexus', '../data/out/Subtrees/tree_ORTHOMCL256_Inner1.nexus']\n",
      "2 ../data/out/Subtrees/tree_ORTHOMCL256_2_Inner1.nexus ['../data/out/Subtrees/tree_ORTHOMCL256_Inner8.nexus', '../data/out/Subtrees/tree_ORTHOMCL256_Inner7.nexus', '../data/out/Subtrees/tree_ORTHOMCL256_Inner6.nexus', '../data/out/Subtrees/tree_ORTHOMCL256_Inner5.nexus', '../data/out/Subtrees/tree_ORTHOMCL256_Inner3.nexus', '../data/out/Subtrees/tree_ORTHOMCL256_Inner2.nexus', '../data/out/Subtrees/tree_ORTHOMCL256_Inner1.nexus']\n",
      "3 ../data/out/Subtrees/tree_ORTHOMCL256_Inner8.nexus ['../data/out/Subtrees/tree_ORTHOMCL256_2_Inner3.nexus']\n",
      "3 ../data/out/Subtrees/tree_ORTHOMCL256_Inner7.nexus ['../data/out/Subtrees/tree_ORTHOMCL256_2_Inner3.nexus']\n",
      "3 ../data/out/Subtrees/tree_ORTHOMCL256_Inner6.nexus ['../data/out/Subtrees/tree_ORTHOMCL256_2_Inner3.nexus']\n",
      "3 ../data/out/Subtrees/tree_ORTHOMCL256_Inner5.nexus ['../data/out/Subtrees/tree_ORTHOMCL256_2_Inner3.nexus']\n",
      "3 ../data/out/Subtrees/tree_ORTHOMCL256_Inner3.nexus ['../data/out/Subtrees/tree_ORTHOMCL256_2_Inner8.nexus', '../data/out/Subtrees/tree_ORTHOMCL256_2_Inner7.nexus', '../data/out/Subtrees/tree_ORTHOMCL256_2_Inner6.nexus', '../data/out/Subtrees/tree_ORTHOMCL256_2_Inner5.nexus', '../data/out/Subtrees/tree_ORTHOMCL256_2_Inner3.nexus']\n",
      "3 ../data/out/Subtrees/tree_ORTHOMCL256_2_Inner8.nexus ['../data/out/Subtrees/tree_ORTHOMCL256_Inner3.nexus']\n",
      "3 ../data/out/Subtrees/tree_ORTHOMCL256_2_Inner7.nexus ['../data/out/Subtrees/tree_ORTHOMCL256_Inner3.nexus']\n",
      "3 ../data/out/Subtrees/tree_ORTHOMCL256_2_Inner6.nexus ['../data/out/Subtrees/tree_ORTHOMCL256_Inner3.nexus']\n",
      "3 ../data/out/Subtrees/tree_ORTHOMCL256_2_Inner5.nexus ['../data/out/Subtrees/tree_ORTHOMCL256_Inner3.nexus']\n",
      "3 ../data/out/Subtrees/tree_ORTHOMCL256_2_Inner3.nexus ['../data/out/Subtrees/tree_ORTHOMCL256_Inner8.nexus', '../data/out/Subtrees/tree_ORTHOMCL256_Inner7.nexus', '../data/out/Subtrees/tree_ORTHOMCL256_Inner6.nexus', '../data/out/Subtrees/tree_ORTHOMCL256_Inner5.nexus', '../data/out/Subtrees/tree_ORTHOMCL256_Inner3.nexus']\n",
      "4 ../data/out/Subtrees/tree_ORTHOMCL256_Inner8.nexus ['../data/out/Subtrees/tree_ORTHOMCL256_2_Inner5.nexus']\n",
      "4 ../data/out/Subtrees/tree_ORTHOMCL256_Inner7.nexus ['../data/out/Subtrees/tree_ORTHOMCL256_2_Inner5.nexus']\n",
      "4 ../data/out/Subtrees/tree_ORTHOMCL256_Inner6.nexus ['../data/out/Subtrees/tree_ORTHOMCL256_2_Inner5.nexus']\n",
      "4 ../data/out/Subtrees/tree_ORTHOMCL256_Inner5.nexus ['../data/out/Subtrees/tree_ORTHOMCL256_2_Inner8.nexus', '../data/out/Subtrees/tree_ORTHOMCL256_2_Inner7.nexus', '../data/out/Subtrees/tree_ORTHOMCL256_2_Inner6.nexus', '../data/out/Subtrees/tree_ORTHOMCL256_2_Inner5.nexus']\n",
      "4 ../data/out/Subtrees/tree_ORTHOMCL256_2_Inner8.nexus ['../data/out/Subtrees/tree_ORTHOMCL256_Inner5.nexus']\n",
      "4 ../data/out/Subtrees/tree_ORTHOMCL256_2_Inner7.nexus ['../data/out/Subtrees/tree_ORTHOMCL256_Inner5.nexus']\n",
      "4 ../data/out/Subtrees/tree_ORTHOMCL256_2_Inner6.nexus ['../data/out/Subtrees/tree_ORTHOMCL256_Inner5.nexus']\n",
      "4 ../data/out/Subtrees/tree_ORTHOMCL256_2_Inner5.nexus ['../data/out/Subtrees/tree_ORTHOMCL256_Inner8.nexus', '../data/out/Subtrees/tree_ORTHOMCL256_Inner7.nexus', '../data/out/Subtrees/tree_ORTHOMCL256_Inner6.nexus', '../data/out/Subtrees/tree_ORTHOMCL256_Inner5.nexus']\n",
      "5 ../data/out/Subtrees/tree_ORTHOMCL256_Inner8.nexus ['../data/out/Subtrees/tree_ORTHOMCL256_2_Inner6.nexus']\n",
      "5 ../data/out/Subtrees/tree_ORTHOMCL256_Inner7.nexus ['../data/out/Subtrees/tree_ORTHOMCL256_2_Inner6.nexus']\n",
      "5 ../data/out/Subtrees/tree_ORTHOMCL256_Inner6.nexus ['../data/out/Subtrees/tree_ORTHOMCL256_2_Inner8.nexus', '../data/out/Subtrees/tree_ORTHOMCL256_2_Inner7.nexus', '../data/out/Subtrees/tree_ORTHOMCL256_2_Inner6.nexus']\n",
      "5 ../data/out/Subtrees/tree_ORTHOMCL256_2_Inner8.nexus ['../data/out/Subtrees/tree_ORTHOMCL256_Inner6.nexus']\n",
      "5 ../data/out/Subtrees/tree_ORTHOMCL256_2_Inner7.nexus ['../data/out/Subtrees/tree_ORTHOMCL256_Inner6.nexus']\n",
      "5 ../data/out/Subtrees/tree_ORTHOMCL256_2_Inner6.nexus ['../data/out/Subtrees/tree_ORTHOMCL256_Inner8.nexus', '../data/out/Subtrees/tree_ORTHOMCL256_Inner7.nexus', '../data/out/Subtrees/tree_ORTHOMCL256_Inner6.nexus']\n",
      "6 ../data/out/Subtrees/tree_ORTHOMCL256_Inner8.nexus ['../data/out/Subtrees/tree_ORTHOMCL256_2_Inner7.nexus']\n",
      "6 ../data/out/Subtrees/tree_ORTHOMCL256_Inner7.nexus ['../data/out/Subtrees/tree_ORTHOMCL256_2_Inner8.nexus', '../data/out/Subtrees/tree_ORTHOMCL256_2_Inner7.nexus']\n",
      "6 ../data/out/Subtrees/tree_ORTHOMCL256_2_Inner8.nexus ['../data/out/Subtrees/tree_ORTHOMCL256_Inner7.nexus']\n",
      "6 ../data/out/Subtrees/tree_ORTHOMCL256_2_Inner7.nexus ['../data/out/Subtrees/tree_ORTHOMCL256_Inner8.nexus', '../data/out/Subtrees/tree_ORTHOMCL256_Inner7.nexus']\n",
      "8 ../data/out/Subtrees/tree_ORTHOMCL256_Inner8.nexus ['../data/out/Subtrees/tree_ORTHOMCL256_2_Inner8.nexus']\n",
      "8 ../data/out/Subtrees/tree_ORTHOMCL256_2_Inner8.nexus ['../data/out/Subtrees/tree_ORTHOMCL256_Inner8.nexus']\n"
     ]
    }
   ],
   "source": [
    "for i, j in dict_maf_database.items():\n",
    "    for key, val in j.items():\n",
    "        print(i, key, val)\n",
    "    "
   ]
  }
 ],
 "metadata": {
  "kernelspec": {
   "display_name": ".env",
   "language": "python",
   "name": "python3"
  },
  "language_info": {
   "codemirror_mode": {
    "name": "ipython",
    "version": 3
   },
   "file_extension": ".py",
   "mimetype": "text/x-python",
   "name": "python",
   "nbconvert_exporter": "python",
   "pygments_lexer": "ipython3",
   "version": "3.8.10"
  },
  "orig_nbformat": 4
 },
 "nbformat": 4,
 "nbformat_minor": 2
}
